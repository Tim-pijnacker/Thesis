{
 "cells": [
  {
   "cell_type": "code",
   "execution_count": 4,
   "metadata": {},
   "outputs": [],
   "source": [
    "import torch\n",
    "from torch.autograd import Function\n",
    "from torch.nn.functional import softmax\n",
    "from time import time\n",
    "\n",
    "from entmax.root_finding import entmax_bisect\n",
    "from bisection import EntmaxBisectFunction\n",
    "from nsection_bench import EntmaxNsectFunction"
   ]
  },
  {
   "cell_type": "code",
   "execution_count": 2,
   "metadata": {},
   "outputs": [],
   "source": [
    "torch.manual_seed(42)\n",
    "input_mat = torch.randn(10, 5)\n",
    "alpha = 1.5"
   ]
  },
  {
   "cell_type": "code",
   "execution_count": 5,
   "metadata": {},
   "outputs": [
    {
     "name": "stdout",
     "output_type": "stream",
     "text": [
      "Output and time for my Bisect function:\n"
     ]
    },
    {
     "ename": "NameError",
     "evalue": "name 'EntmaxBisectFunction' is not defined",
     "output_type": "error",
     "traceback": [
      "\u001b[1;31m---------------------------------------------------------------------------\u001b[0m",
      "\u001b[1;31mNameError\u001b[0m                                 Traceback (most recent call last)",
      "\u001b[1;32mc:\\Users\\timpi\\thesis\\time_functions.ipynb Cell 3\u001b[0m in \u001b[0;36m<cell line: 3>\u001b[1;34m()\u001b[0m\n\u001b[0;32m      <a href='vscode-notebook-cell:/c%3A/Users/timpi/thesis/time_functions.ipynb#X10sZmlsZQ%3D%3D?line=0'>1</a>\u001b[0m \u001b[39mprint\u001b[39m(\u001b[39m\"\u001b[39m\u001b[39mOutput and time for my Bisect function:\u001b[39m\u001b[39m\"\u001b[39m)\n\u001b[0;32m      <a href='vscode-notebook-cell:/c%3A/Users/timpi/thesis/time_functions.ipynb#X10sZmlsZQ%3D%3D?line=1'>2</a>\u001b[0m start \u001b[39m=\u001b[39m time()\n\u001b[1;32m----> <a href='vscode-notebook-cell:/c%3A/Users/timpi/thesis/time_functions.ipynb#X10sZmlsZQ%3D%3D?line=2'>3</a>\u001b[0m out \u001b[39m=\u001b[39m EntmaxBisectFunction\u001b[39m.\u001b[39mforward(Function, input_mat, n_iter\u001b[39m=\u001b[39m\u001b[39m50\u001b[39m)\n\u001b[0;32m      <a href='vscode-notebook-cell:/c%3A/Users/timpi/thesis/time_functions.ipynb#X10sZmlsZQ%3D%3D?line=3'>4</a>\u001b[0m \u001b[39mprint\u001b[39m(out[\u001b[39m-\u001b[39m\u001b[39m1\u001b[39m])\n\u001b[0;32m      <a href='vscode-notebook-cell:/c%3A/Users/timpi/thesis/time_functions.ipynb#X10sZmlsZQ%3D%3D?line=4'>5</a>\u001b[0m \u001b[39mprint\u001b[39m(time()\u001b[39m-\u001b[39mstart)\n",
      "\u001b[1;31mNameError\u001b[0m: name 'EntmaxBisectFunction' is not defined"
     ]
    }
   ],
   "source": [
    "print(\"Output and time for my Bisect function:\")\n",
    "start = time()\n",
    "out = EntmaxBisectFunction.forward(Function, input_mat, n_iter=50)\n",
    "print(out[-1])\n",
    "print(time()-start)\n",
    "\n",
    "n_iter = 5\n",
    "n_sections = 5\n",
    "print(f\"\\nOutput and time for my Nsect function ({n_iter} iters {n_sections} sects):\")\n",
    "start = time()\n",
    "out1 = EntmaxNsectFunction.forward(Function, input_mat, n_iter=n_iter, n_sections=n_sections)\n",
    "print(out1[-1])\n",
    "print(time()-start)\n",
    "\n",
    "n_iter = 2\n",
    "n_sections = 50\n",
    "print(f\"\\nOutput and time for my Nsect function ({n_iter} iters {n_sections} sects):\")\n",
    "start = time()\n",
    "out2 = EntmaxNsectFunction.forward(Function, input_mat, n_iter=n_iter, n_sections=n_sections)\n",
    "print(out2[-1])\n",
    "print(time()-start)\n",
    "\n",
    "print(\"\\nOutput and time for Vlad's Bisect function:\")\n",
    "start = time()\n",
    "out3 = entmax_bisect(input_mat)\n",
    "print(out3[-1])\n",
    "print(time()-start)"
   ]
  },
  {
   "cell_type": "markdown",
   "metadata": {},
   "source": [
    "## Tests for my implemented forward functions"
   ]
  },
  {
   "cell_type": "code",
   "execution_count": 8,
   "metadata": {},
   "outputs": [
    {
     "name": "stdout",
     "output_type": "stream",
     "text": [
      "2.45 µs ± 57.1 ns per loop (mean ± std. dev. of 7 runs, 100,000 loops each)\n"
     ]
    }
   ],
   "source": [
    "%timeit EntmaxNsectFunction_kern(input_mat)"
   ]
  },
  {
   "cell_type": "code",
   "execution_count": 9,
   "metadata": {},
   "outputs": [
    {
     "name": "stdout",
     "output_type": "stream",
     "text": [
      "2.43 µs ± 37.3 ns per loop (mean ± std. dev. of 7 runs, 100,000 loops each)\n"
     ]
    }
   ],
   "source": [
    "%timeit EntmaxNsectFunction_bench(input_mat)"
   ]
  },
  {
   "cell_type": "code",
   "execution_count": null,
   "metadata": {},
   "outputs": [],
   "source": [
    "%time entmax_bisect_test(input_mat, alpha)"
   ]
  },
  {
   "cell_type": "code",
   "execution_count": null,
   "metadata": {},
   "outputs": [],
   "source": [
    "%timeit entmax_bisect_test(input_mat, alpha)"
   ]
  }
 ],
 "metadata": {
  "kernelspec": {
   "display_name": "Python 3.10.5 64-bit",
   "language": "python",
   "name": "python3"
  },
  "language_info": {
   "codemirror_mode": {
    "name": "ipython",
    "version": 3
   },
   "file_extension": ".py",
   "mimetype": "text/x-python",
   "name": "python",
   "nbconvert_exporter": "python",
   "pygments_lexer": "ipython3",
   "version": "3.10.5"
  },
  "orig_nbformat": 4,
  "vscode": {
   "interpreter": {
    "hash": "5ab198161aa5ad666205ca38324e186c03308d70b4adfca2325c311fff47a077"
   }
  }
 },
 "nbformat": 4,
 "nbformat_minor": 2
}
