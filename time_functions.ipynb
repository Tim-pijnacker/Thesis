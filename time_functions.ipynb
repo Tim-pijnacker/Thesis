{
 "cells": [
  {
   "cell_type": "code",
   "execution_count": null,
   "metadata": {},
   "outputs": [],
   "source": [
    "import torch\n",
    "from torch.autograd import Function\n",
    "from torch.nn.functional import softmax\n",
    "from time import time\n",
    "\n",
    "from cpp.nsection import entmax_nsect_cpp # cpp nsection\n",
    "from python.nsection import entmax_nsect # py nsection\n",
    "from python.bisection import entmax_bisect # py bisection\n",
    "from entmax import sparsemax_bisect # sparsemax bisection vlad\n",
    "from torch.nn.functional import softmax # softmax bisection"
   ]
  },
  {
   "cell_type": "code",
   "execution_count": null,
   "metadata": {},
   "outputs": [],
   "source": [
    "torch.manual_seed(42)\n",
    "# bert 256x512, 30k \n",
    "# translation 4000/8000, 30k\n",
    "input_mat = torch.randn(100, 30000)\n",
    "alpha = 1.5"
   ]
  },
  {
   "cell_type": "code",
   "execution_count": null,
   "metadata": {},
   "outputs": [],
   "source": [
    "assert torch.cuda.is_available()\n",
    "cuda_device = torch.device(\"cuda:1\")\n",
    "print(torch.cuda.get_device_name())\n",
    "print(cuda_device)\n",
    "\n",
    "input_mat_cuda = torch.randn(100, 30000, device=cuda_device)"
   ]
  },
  {
   "cell_type": "code",
   "execution_count": null,
   "metadata": {},
   "outputs": [],
   "source": [
    "inp = input_mat_cuda"
   ]
  },
  {
   "cell_type": "markdown",
   "metadata": {},
   "source": [
    "## Tests forward functions"
   ]
  },
  {
   "cell_type": "code",
   "execution_count": null,
   "metadata": {},
   "outputs": [],
   "source": [
    "%timeit -n 100 entmax_nsect(inp)"
   ]
  },
  {
   "cell_type": "code",
   "execution_count": null,
   "metadata": {},
   "outputs": [],
   "source": [
    "%timeit -n 100 entmax_nsect_cpp(inp)"
   ]
  },
  {
   "cell_type": "code",
   "execution_count": null,
   "metadata": {},
   "outputs": [],
   "source": [
    "%timeit -n 100 entmax_bisect(inp)"
   ]
  },
  {
   "cell_type": "code",
   "execution_count": null,
   "metadata": {},
   "outputs": [],
   "source": [
    "%timeit -n 100 sparsemax_bisect(inp)"
   ]
  },
  {
   "cell_type": "code",
   "execution_count": null,
   "metadata": {},
   "outputs": [],
   "source": [
    "%timeit -n 100 softmax(inp)"
   ]
  }
 ],
 "metadata": {
  "kernelspec": {
   "display_name": "Python 3.10.5 64-bit",
   "language": "python",
   "name": "python3"
  },
  "language_info": {
   "codemirror_mode": {
    "name": "ipython",
    "version": 3
   },
   "file_extension": ".py",
   "mimetype": "text/x-python",
   "name": "python",
   "nbconvert_exporter": "python",
   "pygments_lexer": "ipython3",
   "version": "3.10.5"
  },
  "orig_nbformat": 4,
  "vscode": {
   "interpreter": {
    "hash": "5ab198161aa5ad666205ca38324e186c03308d70b4adfca2325c311fff47a077"
   }
  }
 },
 "nbformat": 4,
 "nbformat_minor": 2
}
