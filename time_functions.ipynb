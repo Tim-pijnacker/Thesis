{
 "cells": [
  {
   "cell_type": "code",
   "execution_count": 1,
   "metadata": {},
   "outputs": [],
   "source": [
    "import torch\n",
    "\n",
    "from benchmark.benchmark import benchmarker"
   ]
  },
  {
   "cell_type": "code",
   "execution_count": 2,
   "metadata": {},
   "outputs": [
    {
     "name": "stderr",
     "output_type": "stream",
     "text": [
      "c:\\Users\\timpi\\AppData\\Local\\Programs\\Python\\Python310\\lib\\site-packages\\torch\\cuda\\__init__.py:132: UserWarning: \n",
      "    Found GPU1 GeForce GT 710 which is of cuda capability 3.5.\n",
      "    PyTorch no longer supports this GPU because it is too old.\n",
      "    The minimum cuda capability supported by this library is 3.7.\n",
      "    \n",
      "  warnings.warn(old_gpu_warn % (d, name, major, minor, min_arch // 10, min_arch % 10))\n"
     ]
    }
   ],
   "source": [
    "# bench = benchmarker(alpha = 1.5, nsct_iter = 5, bisct_iter = 25, n_sections = 32, rows = [10, 100], cols = [1000, 10000])\n",
    "bench = benchmarker(alpha = 1.5, nsct_iter = 5, bisct_iter = 25, n_sections = 32, rows = [2], cols = [3])\n",
    "bench.initialise()"
   ]
  },
  {
   "cell_type": "code",
   "execution_count": 3,
   "metadata": {},
   "outputs": [
    {
     "name": "stdout",
     "output_type": "stream",
     "text": [
      "[-------------- entmax, bisect and softmax time ---------------]\n",
      "              |    py    |   cpp   |   cuda   |  bisct   |  soft\n",
      "1 threads: -----------------------------------------------------\n",
      "      [2, 3]  |  \u001b[92m\u001b[1m1731.5\u001b[0m\u001b[0m  |  \u001b[92m\u001b[1m916.4\u001b[0m\u001b[0m  |  \u001b[92m\u001b[1m1096.4\u001b[0m\u001b[0m  |  \u001b[92m\u001b[1m5416.8\u001b[0m\u001b[0m  |  \u001b[92m\u001b[1m 9.3\u001b[0m\u001b[0m\n",
      "4 threads: -----------------------------------------------------\n",
      "      [2, 3]  |  \u001b[92m\u001b[1m1738.3\u001b[0m\u001b[0m  |  \u001b[92m\u001b[1m920.9\u001b[0m\u001b[0m  |  \u001b[92m\u001b[1m1106.8\u001b[0m\u001b[0m  |  \u001b[92m\u001b[1m5350.6\u001b[0m\u001b[0m  |  \u001b[92m\u001b[1m 9.6\u001b[0m\u001b[0m\n",
      "16 threads: ----------------------------------------------------\n",
      "      [2, 3]  |  \u001b[92m\u001b[1m1741.7\u001b[0m\u001b[0m  |  \u001b[92m\u001b[1m913.2\u001b[0m\u001b[0m  |  \u001b[92m\u001b[1m1440.8\u001b[0m\u001b[0m  |  \u001b[92m\u001b[1m5332.5\u001b[0m\u001b[0m  |  \u001b[92m\u001b[1m10.0\u001b[0m\u001b[0m\n",
      "32 threads: ----------------------------------------------------\n",
      "      [2, 3]  |  \u001b[92m\u001b[1m1730.3\u001b[0m\u001b[0m  |  \u001b[92m\u001b[1m919.3\u001b[0m\u001b[0m  |  \u001b[92m\u001b[1m1105.0\u001b[0m\u001b[0m  |  \u001b[92m\u001b[1m5358.9\u001b[0m\u001b[0m  |  \u001b[92m\u001b[1m 9.3\u001b[0m\u001b[0m\n",
      "\n",
      "Times are in microseconds (us).\n",
      "\n"
     ]
    }
   ],
   "source": [
    "# bench2 = benchmarker(rows = [10, 100], cols = [1000, 10000])\n",
    "bench2 = benchmarker(rows = [2], cols = [3])\n",
    "bench2.compare()"
   ]
  }
 ],
 "metadata": {
  "kernelspec": {
   "display_name": "Python 3.10.5 64-bit",
   "language": "python",
   "name": "python3"
  },
  "language_info": {
   "codemirror_mode": {
    "name": "ipython",
    "version": 3
   },
   "file_extension": ".py",
   "mimetype": "text/x-python",
   "name": "python",
   "nbconvert_exporter": "python",
   "pygments_lexer": "ipython3",
   "version": "3.10.5"
  },
  "orig_nbformat": 4,
  "vscode": {
   "interpreter": {
    "hash": "5ab198161aa5ad666205ca38324e186c03308d70b4adfca2325c311fff47a077"
   }
  }
 },
 "nbformat": 4,
 "nbformat_minor": 2
}
