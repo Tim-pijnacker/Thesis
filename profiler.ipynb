{
 "cells": [
  {
   "cell_type": "code",
   "execution_count": 10,
   "metadata": {},
   "outputs": [],
   "source": [
    "import torch\n",
    "import torchvision.models as models\n",
    "from torch.profiler import profile, record_function, ProfilerActivity\n",
    "\n",
    "import nsection_cuda\n",
    "x = torch.randn(10, 100, dtype=torch.float32, device=torch.device(\"cuda:0\"))"
   ]
  },
  {
   "cell_type": "code",
   "execution_count": 11,
   "metadata": {},
   "outputs": [],
   "source": [
    "# , profile_memory=True, use_cuda=True\n",
    "with profile(activities=[ProfilerActivity.CPU, ProfilerActivity.CUDA], record_shapes=True) as prof:\n",
    "    with record_function(\"model_inference\"):\n",
    "        nsection_cuda.forward1(x, 1.5, 5, 32).cuda()"
   ]
  },
  {
   "cell_type": "code",
   "execution_count": 12,
   "metadata": {},
   "outputs": [
    {
     "name": "stdout",
     "output_type": "stream",
     "text": [
      "-----------------------------  ------------  ------------  ------------  ------------  ------------  ------------  ------------  ------------  ------------  ------------  \n",
      "                         Name    Self CPU %      Self CPU   CPU total %     CPU total  CPU time avg     Self CUDA   Self CUDA %    CUDA total  CUDA time avg    # of Calls  \n",
      "-----------------------------  ------------  ------------  ------------  ------------  ------------  ------------  ------------  ------------  ------------  ------------  \n",
      "              model_inference        96.27%       7.606ms        99.59%       7.869ms       7.869ms       1.121ms        91.81%       1.213ms       1.213ms             1  \n",
      "                  aten::zeros         0.53%      42.000us         0.97%      77.000us      25.667us      13.000us         1.06%      33.000us      11.000us             3  \n",
      "                  aten::zero_         0.20%      16.000us         0.53%      42.000us      10.500us      10.000us         0.82%      22.000us       5.500us             4  \n",
      "             aten::zeros_like         0.15%      12.000us         0.80%      63.000us      63.000us       4.000us         0.33%      15.000us      15.000us             1  \n",
      "                 aten::select         0.34%      27.000us         0.37%      29.000us       9.667us       8.000us         0.66%      12.000us       4.000us             3  \n",
      "                   aten::item         0.16%      13.000us         0.19%      15.000us       5.000us       8.000us         0.66%      12.000us       4.000us             3  \n",
      "                  aten::fill_         0.33%      26.000us         0.33%      26.000us       8.667us      12.000us         0.98%      12.000us       4.000us             3  \n",
      "                    aten::mul         0.48%      38.000us         0.48%      38.000us      19.000us       9.000us         0.74%       9.000us       4.500us             2  \n",
      "                   aten::amax         0.52%      41.000us         0.52%      41.000us      41.000us       8.000us         0.66%       8.000us       8.000us             1  \n",
      "                  aten::empty         0.20%      16.000us         0.20%      16.000us       3.200us       7.000us         0.57%       7.000us       1.400us             5  \n",
      "-----------------------------  ------------  ------------  ------------  ------------  ------------  ------------  ------------  ------------  ------------  ------------  \n",
      "Self CPU time total: 7.901ms\n",
      "Self CUDA time total: 1.221ms\n",
      "\n"
     ]
    }
   ],
   "source": [
    "print(prof.key_averages().table(sort_by=\"cuda_time_total\", row_limit=10))"
   ]
  }
 ],
 "metadata": {
  "kernelspec": {
   "display_name": "Python 3.10.5 64-bit",
   "language": "python",
   "name": "python3"
  },
  "language_info": {
   "codemirror_mode": {
    "name": "ipython",
    "version": 3
   },
   "file_extension": ".py",
   "mimetype": "text/x-python",
   "name": "python",
   "nbconvert_exporter": "python",
   "pygments_lexer": "ipython3",
   "version": "3.10.5"
  },
  "orig_nbformat": 4,
  "vscode": {
   "interpreter": {
    "hash": "5ab198161aa5ad666205ca38324e186c03308d70b4adfca2325c311fff47a077"
   }
  }
 },
 "nbformat": 4,
 "nbformat_minor": 2
}
